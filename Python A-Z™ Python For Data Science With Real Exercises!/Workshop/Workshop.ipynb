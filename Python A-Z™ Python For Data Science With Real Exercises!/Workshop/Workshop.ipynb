{
 "cells": [
  {
   "cell_type": "code",
   "execution_count": 1,
   "metadata": {},
   "outputs": [],
   "source": [
    "import numpy as np\n",
    "import pandas as pd"
   ]
  },
  {
   "cell_type": "markdown",
   "metadata": {},
   "source": [
    "---"
   ]
  },
  {
   "cell_type": "markdown",
   "metadata": {},
   "source": [
    "## Problem 1  Finding unique pairs in a list.\n",
    "Example: Input List = [[5, 6], [9, 8], [5,6],[8, 9], [1, 4], [6, 5], [10, 1],[9,7],[9,7]].\n",
    "The number of unique pairs is 2."
   ]
  },
  {
   "cell_type": "code",
   "execution_count": 2,
   "metadata": {},
   "outputs": [
    {
     "data": {
      "text/plain": [
       "[[5, 6], [9, 8], [5, 6], [8, 9], [1, 4], [6, 5], [10, 1], [9, 7], [9, 7]]"
      ]
     },
     "execution_count": 2,
     "metadata": {},
     "output_type": "execute_result"
    }
   ],
   "source": [
    "#Method 1\n",
    "a = [[5, 6], [9, 8], [5,6],[8, 9], [1, 4], [6, 5], [10, 1],[9,7],[9,7]]\n",
    "a"
   ]
  },
  {
   "cell_type": "code",
   "execution_count": 3,
   "metadata": {},
   "outputs": [],
   "source": [
    "def unique_list1(lst):\n",
    "    arr = np.array(lst)\n",
    "    arr.sort(axis=1)\n",
    "    temp = arr.view(np.dtype((np.void, arr.dtype.itemsize * arr.shape[1])))\n",
    "    ignore, inv, ct = np.unique(temp, return_inverse=True, return_counts=True)\n",
    "    unique = arr[ct[inv] == 1]\n",
    "    print(unique)\n",
    "    return len(unique)"
   ]
  },
  {
   "cell_type": "code",
   "execution_count": 4,
   "metadata": {},
   "outputs": [
    {
     "name": "stdout",
     "output_type": "stream",
     "text": [
      "[[ 1  4]\n",
      " [ 1 10]]\n"
     ]
    },
    {
     "data": {
      "text/plain": [
       "2"
      ]
     },
     "execution_count": 4,
     "metadata": {},
     "output_type": "execute_result"
    }
   ],
   "source": [
    "unique_list1(a)"
   ]
  },
  {
   "cell_type": "code",
   "execution_count": 5,
   "metadata": {},
   "outputs": [],
   "source": [
    "#Method 2\n",
    "def unique_list2(a):\n",
    "    for lst in a:\n",
    "        lst.sort() \n",
    "    print(a)    \n",
    "    temp = []\n",
    "    for lst in a:\n",
    "        temp.append(a.count(lst))\n",
    "    print(temp)    \n",
    "    hello = []\n",
    "    for i in range(len(a)):\n",
    "        if temp[i] == 1:\n",
    "            hello.append(a[i])\n",
    "    print(hello)\n",
    "    print('Number of unique pairs ' + str(len(hello)))"
   ]
  },
  {
   "cell_type": "code",
   "execution_count": 6,
   "metadata": {},
   "outputs": [
    {
     "name": "stdout",
     "output_type": "stream",
     "text": [
      "[[5, 6], [8, 9], [5, 6], [8, 9], [1, 4], [5, 6], [1, 10], [7, 9], [7, 9]]\n",
      "[3, 2, 3, 2, 1, 3, 1, 2, 2]\n",
      "[[1, 4], [1, 10]]\n",
      "Number of unique pairs 2\n"
     ]
    }
   ],
   "source": [
    "unique_list2(a)"
   ]
  },
  {
   "cell_type": "markdown",
   "metadata": {},
   "source": [
    "## Problem 2 - Finding the grades using Lab, Assignment and Test scores"
   ]
  },
  {
   "cell_type": "code",
   "execution_count": 7,
   "metadata": {},
   "outputs": [
    {
     "data": {
      "text/html": [
       "<div>\n",
       "<style scoped>\n",
       "    .dataframe tbody tr th:only-of-type {\n",
       "        vertical-align: middle;\n",
       "    }\n",
       "\n",
       "    .dataframe tbody tr th {\n",
       "        vertical-align: top;\n",
       "    }\n",
       "\n",
       "    .dataframe thead th {\n",
       "        text-align: right;\n",
       "    }\n",
       "</style>\n",
       "<table border=\"1\" class=\"dataframe\">\n",
       "  <thead>\n",
       "    <tr style=\"text-align: right;\">\n",
       "      <th></th>\n",
       "      <th>Student Name</th>\n",
       "      <th>Assignment_1</th>\n",
       "      <th>Assignment_2</th>\n",
       "      <th>Assignment_3</th>\n",
       "      <th>Assignment_4</th>\n",
       "      <th>Test_1</th>\n",
       "      <th>Test_2</th>\n",
       "      <th>Lab_1</th>\n",
       "      <th>Lab_2</th>\n",
       "    </tr>\n",
       "  </thead>\n",
       "  <tbody>\n",
       "    <tr>\n",
       "      <td>0</td>\n",
       "      <td>Jack</td>\n",
       "      <td>80</td>\n",
       "      <td>50</td>\n",
       "      <td>40</td>\n",
       "      <td>20</td>\n",
       "      <td>75</td>\n",
       "      <td>75</td>\n",
       "      <td>78.2</td>\n",
       "      <td>77.20</td>\n",
       "    </tr>\n",
       "    <tr>\n",
       "      <td>1</td>\n",
       "      <td>James</td>\n",
       "      <td>82</td>\n",
       "      <td>56</td>\n",
       "      <td>44</td>\n",
       "      <td>30</td>\n",
       "      <td>80</td>\n",
       "      <td>80</td>\n",
       "      <td>67.9</td>\n",
       "      <td>78.72</td>\n",
       "    </tr>\n",
       "    <tr>\n",
       "      <td>2</td>\n",
       "      <td>Dylan</td>\n",
       "      <td>77</td>\n",
       "      <td>82</td>\n",
       "      <td>23</td>\n",
       "      <td>39</td>\n",
       "      <td>78</td>\n",
       "      <td>77</td>\n",
       "      <td>80.0</td>\n",
       "      <td>80.00</td>\n",
       "    </tr>\n",
       "    <tr>\n",
       "      <td>3</td>\n",
       "      <td>Jessica</td>\n",
       "      <td>67</td>\n",
       "      <td>55</td>\n",
       "      <td>77</td>\n",
       "      <td>21</td>\n",
       "      <td>40</td>\n",
       "      <td>50</td>\n",
       "      <td>69.0</td>\n",
       "      <td>44.56</td>\n",
       "    </tr>\n",
       "    <tr>\n",
       "      <td>4</td>\n",
       "      <td>Tom</td>\n",
       "      <td>29</td>\n",
       "      <td>89</td>\n",
       "      <td>60</td>\n",
       "      <td>56</td>\n",
       "      <td>65</td>\n",
       "      <td>56</td>\n",
       "      <td>50.0</td>\n",
       "      <td>40.60</td>\n",
       "    </tr>\n",
       "  </tbody>\n",
       "</table>\n",
       "</div>"
      ],
      "text/plain": [
       "  Student Name  Assignment_1  Assignment_2  Assignment_3  Assignment_4  \\\n",
       "0         Jack            80            50            40            20   \n",
       "1        James            82            56            44            30   \n",
       "2        Dylan            77            82            23            39   \n",
       "3      Jessica            67            55            77            21   \n",
       "4          Tom            29            89            60            56   \n",
       "\n",
       "   Test_1  Test_2  Lab_1  Lab_2  \n",
       "0      75      75   78.2  77.20  \n",
       "1      80      80   67.9  78.72  \n",
       "2      78      77   80.0  80.00  \n",
       "3      40      50   69.0  44.56  \n",
       "4      65      56   50.0  40.60  "
      ]
     },
     "execution_count": 7,
     "metadata": {},
     "output_type": "execute_result"
    }
   ],
   "source": [
    "#Imported the dataset\n",
    "dataset = pd.read_csv('Grade_data.csv')\n",
    "dataset"
   ]
  },
  {
   "cell_type": "code",
   "execution_count": 8,
   "metadata": {},
   "outputs": [
    {
     "data": {
      "text/html": [
       "<div>\n",
       "<style scoped>\n",
       "    .dataframe tbody tr th:only-of-type {\n",
       "        vertical-align: middle;\n",
       "    }\n",
       "\n",
       "    .dataframe tbody tr th {\n",
       "        vertical-align: top;\n",
       "    }\n",
       "\n",
       "    .dataframe thead th {\n",
       "        text-align: right;\n",
       "    }\n",
       "</style>\n",
       "<table border=\"1\" class=\"dataframe\">\n",
       "  <thead>\n",
       "    <tr style=\"text-align: right;\">\n",
       "      <th></th>\n",
       "      <th>Student Name</th>\n",
       "      <th>Assignment_1</th>\n",
       "      <th>Assignment_2</th>\n",
       "      <th>Assignment_3</th>\n",
       "      <th>Assignment_4</th>\n",
       "      <th>Test_1</th>\n",
       "      <th>Test_2</th>\n",
       "      <th>Lab_1</th>\n",
       "      <th>Lab_2</th>\n",
       "      <th>Assignment</th>\n",
       "      <th>Test</th>\n",
       "      <th>Lab</th>\n",
       "      <th>Score</th>\n",
       "    </tr>\n",
       "  </thead>\n",
       "  <tbody>\n",
       "    <tr>\n",
       "      <td>0</td>\n",
       "      <td>Jack</td>\n",
       "      <td>80</td>\n",
       "      <td>50</td>\n",
       "      <td>40</td>\n",
       "      <td>20</td>\n",
       "      <td>75</td>\n",
       "      <td>75</td>\n",
       "      <td>78.2</td>\n",
       "      <td>77.20</td>\n",
       "      <td>47.50</td>\n",
       "      <td>75.0</td>\n",
       "      <td>77.70</td>\n",
       "      <td>72.790</td>\n",
       "    </tr>\n",
       "    <tr>\n",
       "      <td>1</td>\n",
       "      <td>James</td>\n",
       "      <td>82</td>\n",
       "      <td>56</td>\n",
       "      <td>44</td>\n",
       "      <td>30</td>\n",
       "      <td>80</td>\n",
       "      <td>80</td>\n",
       "      <td>67.9</td>\n",
       "      <td>78.72</td>\n",
       "      <td>53.00</td>\n",
       "      <td>80.0</td>\n",
       "      <td>73.31</td>\n",
       "      <td>75.962</td>\n",
       "    </tr>\n",
       "    <tr>\n",
       "      <td>2</td>\n",
       "      <td>Dylan</td>\n",
       "      <td>77</td>\n",
       "      <td>82</td>\n",
       "      <td>23</td>\n",
       "      <td>39</td>\n",
       "      <td>78</td>\n",
       "      <td>77</td>\n",
       "      <td>80.0</td>\n",
       "      <td>80.00</td>\n",
       "      <td>55.25</td>\n",
       "      <td>77.5</td>\n",
       "      <td>80.00</td>\n",
       "      <td>75.775</td>\n",
       "    </tr>\n",
       "    <tr>\n",
       "      <td>3</td>\n",
       "      <td>Jessica</td>\n",
       "      <td>67</td>\n",
       "      <td>55</td>\n",
       "      <td>77</td>\n",
       "      <td>21</td>\n",
       "      <td>40</td>\n",
       "      <td>50</td>\n",
       "      <td>69.0</td>\n",
       "      <td>44.56</td>\n",
       "      <td>55.00</td>\n",
       "      <td>45.0</td>\n",
       "      <td>56.78</td>\n",
       "      <td>48.356</td>\n",
       "    </tr>\n",
       "    <tr>\n",
       "      <td>4</td>\n",
       "      <td>Tom</td>\n",
       "      <td>29</td>\n",
       "      <td>89</td>\n",
       "      <td>60</td>\n",
       "      <td>56</td>\n",
       "      <td>65</td>\n",
       "      <td>56</td>\n",
       "      <td>50.0</td>\n",
       "      <td>40.60</td>\n",
       "      <td>58.50</td>\n",
       "      <td>60.5</td>\n",
       "      <td>45.30</td>\n",
       "      <td>57.260</td>\n",
       "    </tr>\n",
       "  </tbody>\n",
       "</table>\n",
       "</div>"
      ],
      "text/plain": [
       "  Student Name  Assignment_1  Assignment_2  Assignment_3  Assignment_4  \\\n",
       "0         Jack            80            50            40            20   \n",
       "1        James            82            56            44            30   \n",
       "2        Dylan            77            82            23            39   \n",
       "3      Jessica            67            55            77            21   \n",
       "4          Tom            29            89            60            56   \n",
       "\n",
       "   Test_1  Test_2  Lab_1  Lab_2  Assignment  Test    Lab   Score  \n",
       "0      75      75   78.2  77.20       47.50  75.0  77.70  72.790  \n",
       "1      80      80   67.9  78.72       53.00  80.0  73.31  75.962  \n",
       "2      78      77   80.0  80.00       55.25  77.5  80.00  75.775  \n",
       "3      40      50   69.0  44.56       55.00  45.0  56.78  48.356  \n",
       "4      65      56   50.0  40.60       58.50  60.5  45.30  57.260  "
      ]
     },
     "execution_count": 8,
     "metadata": {},
     "output_type": "execute_result"
    }
   ],
   "source": [
    "# Created columns for average assignment, test, lab and the final score\n",
    "dataset['Assignment'] = (dataset['Assignment_1'] + dataset['Assignment_2'] + dataset['Assignment_3'] + dataset['Assignment_4'])/4\n",
    "dataset['Test'] = (dataset['Test_1'] + dataset['Test_2'])/2\n",
    "dataset['Lab'] = (dataset['Lab_1'] + dataset['Lab_2'])/2\n",
    "dataset['Score'] = dataset['Assignment'] * 0.1 + dataset['Test'] * 0.7 + dataset['Lab'] * 0.2\n",
    "dataset"
   ]
  },
  {
   "cell_type": "code",
   "execution_count": 9,
   "metadata": {},
   "outputs": [],
   "source": [
    "#Function to calculate grade from score\n",
    "def grade_cal(score):\n",
    "    if score >= 90:\n",
    "        return 'A'\n",
    "    elif score >= 80:\n",
    "        return 'B'\n",
    "    elif score >= 70:\n",
    "        return 'C'\n",
    "    elif score >= 60:\n",
    "        return 'D'\n",
    "    else:\n",
    "        return 'E'"
   ]
  },
  {
   "cell_type": "code",
   "execution_count": 10,
   "metadata": {},
   "outputs": [
    {
     "data": {
      "text/html": [
       "<div>\n",
       "<style scoped>\n",
       "    .dataframe tbody tr th:only-of-type {\n",
       "        vertical-align: middle;\n",
       "    }\n",
       "\n",
       "    .dataframe tbody tr th {\n",
       "        vertical-align: top;\n",
       "    }\n",
       "\n",
       "    .dataframe thead th {\n",
       "        text-align: right;\n",
       "    }\n",
       "</style>\n",
       "<table border=\"1\" class=\"dataframe\">\n",
       "  <thead>\n",
       "    <tr style=\"text-align: right;\">\n",
       "      <th></th>\n",
       "      <th>Student Name</th>\n",
       "      <th>Assignment_1</th>\n",
       "      <th>Assignment_2</th>\n",
       "      <th>Assignment_3</th>\n",
       "      <th>Assignment_4</th>\n",
       "      <th>Test_1</th>\n",
       "      <th>Test_2</th>\n",
       "      <th>Lab_1</th>\n",
       "      <th>Lab_2</th>\n",
       "      <th>Assignment</th>\n",
       "      <th>Test</th>\n",
       "      <th>Lab</th>\n",
       "      <th>Score</th>\n",
       "      <th>Grade</th>\n",
       "    </tr>\n",
       "  </thead>\n",
       "  <tbody>\n",
       "    <tr>\n",
       "      <td>0</td>\n",
       "      <td>Jack</td>\n",
       "      <td>80</td>\n",
       "      <td>50</td>\n",
       "      <td>40</td>\n",
       "      <td>20</td>\n",
       "      <td>75</td>\n",
       "      <td>75</td>\n",
       "      <td>78.2</td>\n",
       "      <td>77.20</td>\n",
       "      <td>47.50</td>\n",
       "      <td>75.0</td>\n",
       "      <td>77.70</td>\n",
       "      <td>72.790</td>\n",
       "      <td>C</td>\n",
       "    </tr>\n",
       "    <tr>\n",
       "      <td>1</td>\n",
       "      <td>James</td>\n",
       "      <td>82</td>\n",
       "      <td>56</td>\n",
       "      <td>44</td>\n",
       "      <td>30</td>\n",
       "      <td>80</td>\n",
       "      <td>80</td>\n",
       "      <td>67.9</td>\n",
       "      <td>78.72</td>\n",
       "      <td>53.00</td>\n",
       "      <td>80.0</td>\n",
       "      <td>73.31</td>\n",
       "      <td>75.962</td>\n",
       "      <td>C</td>\n",
       "    </tr>\n",
       "    <tr>\n",
       "      <td>2</td>\n",
       "      <td>Dylan</td>\n",
       "      <td>77</td>\n",
       "      <td>82</td>\n",
       "      <td>23</td>\n",
       "      <td>39</td>\n",
       "      <td>78</td>\n",
       "      <td>77</td>\n",
       "      <td>80.0</td>\n",
       "      <td>80.00</td>\n",
       "      <td>55.25</td>\n",
       "      <td>77.5</td>\n",
       "      <td>80.00</td>\n",
       "      <td>75.775</td>\n",
       "      <td>C</td>\n",
       "    </tr>\n",
       "    <tr>\n",
       "      <td>3</td>\n",
       "      <td>Jessica</td>\n",
       "      <td>67</td>\n",
       "      <td>55</td>\n",
       "      <td>77</td>\n",
       "      <td>21</td>\n",
       "      <td>40</td>\n",
       "      <td>50</td>\n",
       "      <td>69.0</td>\n",
       "      <td>44.56</td>\n",
       "      <td>55.00</td>\n",
       "      <td>45.0</td>\n",
       "      <td>56.78</td>\n",
       "      <td>48.356</td>\n",
       "      <td>E</td>\n",
       "    </tr>\n",
       "    <tr>\n",
       "      <td>4</td>\n",
       "      <td>Tom</td>\n",
       "      <td>29</td>\n",
       "      <td>89</td>\n",
       "      <td>60</td>\n",
       "      <td>56</td>\n",
       "      <td>65</td>\n",
       "      <td>56</td>\n",
       "      <td>50.0</td>\n",
       "      <td>40.60</td>\n",
       "      <td>58.50</td>\n",
       "      <td>60.5</td>\n",
       "      <td>45.30</td>\n",
       "      <td>57.260</td>\n",
       "      <td>E</td>\n",
       "    </tr>\n",
       "  </tbody>\n",
       "</table>\n",
       "</div>"
      ],
      "text/plain": [
       "  Student Name  Assignment_1  Assignment_2  Assignment_3  Assignment_4  \\\n",
       "0         Jack            80            50            40            20   \n",
       "1        James            82            56            44            30   \n",
       "2        Dylan            77            82            23            39   \n",
       "3      Jessica            67            55            77            21   \n",
       "4          Tom            29            89            60            56   \n",
       "\n",
       "   Test_1  Test_2  Lab_1  Lab_2  Assignment  Test    Lab   Score Grade  \n",
       "0      75      75   78.2  77.20       47.50  75.0  77.70  72.790     C  \n",
       "1      80      80   67.9  78.72       53.00  80.0  73.31  75.962     C  \n",
       "2      78      77   80.0  80.00       55.25  77.5  80.00  75.775     C  \n",
       "3      40      50   69.0  44.56       55.00  45.0  56.78  48.356     E  \n",
       "4      65      56   50.0  40.60       58.50  60.5  45.30  57.260     E  "
      ]
     },
     "execution_count": 10,
     "metadata": {},
     "output_type": "execute_result"
    }
   ],
   "source": [
    "#Created grade column using grade_cal function\n",
    "dataset['Grade'] = dataset['Score'].apply(grade_cal)\n",
    "dataset"
   ]
  },
  {
   "cell_type": "code",
   "execution_count": 11,
   "metadata": {},
   "outputs": [
    {
     "data": {
      "text/html": [
       "<div>\n",
       "<style scoped>\n",
       "    .dataframe tbody tr th:only-of-type {\n",
       "        vertical-align: middle;\n",
       "    }\n",
       "\n",
       "    .dataframe tbody tr th {\n",
       "        vertical-align: top;\n",
       "    }\n",
       "\n",
       "    .dataframe thead th {\n",
       "        text-align: right;\n",
       "    }\n",
       "</style>\n",
       "<table border=\"1\" class=\"dataframe\">\n",
       "  <thead>\n",
       "    <tr style=\"text-align: right;\">\n",
       "      <th></th>\n",
       "      <th>Student Name</th>\n",
       "      <th>Score</th>\n",
       "      <th>Grade</th>\n",
       "    </tr>\n",
       "  </thead>\n",
       "  <tbody>\n",
       "    <tr>\n",
       "      <td>0</td>\n",
       "      <td>Jack</td>\n",
       "      <td>72.790</td>\n",
       "      <td>C</td>\n",
       "    </tr>\n",
       "    <tr>\n",
       "      <td>1</td>\n",
       "      <td>James</td>\n",
       "      <td>75.962</td>\n",
       "      <td>C</td>\n",
       "    </tr>\n",
       "    <tr>\n",
       "      <td>2</td>\n",
       "      <td>Dylan</td>\n",
       "      <td>75.775</td>\n",
       "      <td>C</td>\n",
       "    </tr>\n",
       "    <tr>\n",
       "      <td>3</td>\n",
       "      <td>Jessica</td>\n",
       "      <td>48.356</td>\n",
       "      <td>E</td>\n",
       "    </tr>\n",
       "    <tr>\n",
       "      <td>4</td>\n",
       "      <td>Tom</td>\n",
       "      <td>57.260</td>\n",
       "      <td>E</td>\n",
       "    </tr>\n",
       "  </tbody>\n",
       "</table>\n",
       "</div>"
      ],
      "text/plain": [
       "  Student Name   Score Grade\n",
       "0         Jack  72.790     C\n",
       "1        James  75.962     C\n",
       "2        Dylan  75.775     C\n",
       "3      Jessica  48.356     E\n",
       "4          Tom  57.260     E"
      ]
     },
     "execution_count": 11,
     "metadata": {},
     "output_type": "execute_result"
    }
   ],
   "source": [
    "dataset.filter(['Student Name', 'Score', 'Grade'])"
   ]
  },
  {
   "cell_type": "code",
   "execution_count": 12,
   "metadata": {},
   "outputs": [
    {
     "name": "stdout",
     "output_type": "stream",
     "text": [
      "Class mean is 66.02860000000001\n",
      "Grade of class will be D\n"
     ]
    }
   ],
   "source": [
    "class_mean = sum(dataset.Score)/len(dataset)\n",
    "print(\"Class mean is \", end = \"\")\n",
    "print(class_mean)\n",
    "print('Grade of class will be ' + grade_cal(class_mean))"
   ]
  },
  {
   "cell_type": "code",
   "execution_count": 6,
   "metadata": {},
   "outputs": [
    {
     "ename": "MemoryError",
     "evalue": "",
     "output_type": "error",
     "traceback": [
      "\u001b[1;31m---------------------------------------------------------------------------\u001b[0m",
      "\u001b[1;31mMemoryError\u001b[0m                               Traceback (most recent call last)",
      "\u001b[1;32m<ipython-input-6-affb8e03496d>\u001b[0m in \u001b[0;36m<module>\u001b[1;34m\u001b[0m\n\u001b[0;32m      9\u001b[0m \u001b[0mx\u001b[0m\u001b[1;33m[\u001b[0m\u001b[1;33m:\u001b[0m\u001b[1;33m,\u001b[0m\u001b[1;36m0\u001b[0m\u001b[1;33m]\u001b[0m\u001b[1;33m=\u001b[0m\u001b[0mlabelencoder\u001b[0m\u001b[1;33m.\u001b[0m\u001b[0mfit_transform\u001b[0m\u001b[1;33m(\u001b[0m\u001b[0mx\u001b[0m\u001b[1;33m[\u001b[0m\u001b[1;33m:\u001b[0m\u001b[1;33m,\u001b[0m\u001b[1;36m0\u001b[0m\u001b[1;33m]\u001b[0m\u001b[1;33m)\u001b[0m\u001b[1;33m\u001b[0m\u001b[1;33m\u001b[0m\u001b[0m\n\u001b[0;32m     10\u001b[0m \u001b[0monehotencoder\u001b[0m\u001b[1;33m=\u001b[0m\u001b[0mOneHotEncoder\u001b[0m\u001b[1;33m(\u001b[0m\u001b[0mcategories\u001b[0m\u001b[1;33m=\u001b[0m\u001b[1;34m'auto'\u001b[0m\u001b[1;33m)\u001b[0m\u001b[1;33m\u001b[0m\u001b[1;33m\u001b[0m\u001b[0m\n\u001b[1;32m---> 11\u001b[1;33m \u001b[0mx\u001b[0m\u001b[1;33m=\u001b[0m\u001b[0monehotencoder\u001b[0m\u001b[1;33m.\u001b[0m\u001b[0mfit_transform\u001b[0m\u001b[1;33m(\u001b[0m\u001b[0mx\u001b[0m\u001b[1;33m)\u001b[0m\u001b[1;33m.\u001b[0m\u001b[0mtoarray\u001b[0m\u001b[1;33m(\u001b[0m\u001b[1;33m)\u001b[0m\u001b[1;33m\u001b[0m\u001b[1;33m\u001b[0m\u001b[0m\n\u001b[0m\u001b[0;32m     12\u001b[0m \u001b[0mx\u001b[0m\u001b[1;33m=\u001b[0m\u001b[0mx\u001b[0m\u001b[1;33m[\u001b[0m\u001b[1;33m:\u001b[0m\u001b[1;33m,\u001b[0m\u001b[1;36m1\u001b[0m\u001b[1;33m:\u001b[0m\u001b[1;33m]\u001b[0m\u001b[1;33m\u001b[0m\u001b[1;33m\u001b[0m\u001b[0m\n\u001b[0;32m     13\u001b[0m \u001b[1;32mfrom\u001b[0m \u001b[0msklearn\u001b[0m\u001b[1;33m.\u001b[0m\u001b[0mmodel_selection\u001b[0m \u001b[1;32mimport\u001b[0m \u001b[0mtrain_test_split\u001b[0m\u001b[1;33m\u001b[0m\u001b[1;33m\u001b[0m\u001b[0m\n",
      "\u001b[1;32mC:\\ProgramData\\Anaconda3\\lib\\site-packages\\scipy\\sparse\\compressed.py\u001b[0m in \u001b[0;36mtoarray\u001b[1;34m(self, order, out)\u001b[0m\n\u001b[0;32m   1022\u001b[0m         \u001b[1;32mif\u001b[0m \u001b[0mout\u001b[0m \u001b[1;32mis\u001b[0m \u001b[1;32mNone\u001b[0m \u001b[1;32mand\u001b[0m \u001b[0morder\u001b[0m \u001b[1;32mis\u001b[0m \u001b[1;32mNone\u001b[0m\u001b[1;33m:\u001b[0m\u001b[1;33m\u001b[0m\u001b[1;33m\u001b[0m\u001b[0m\n\u001b[0;32m   1023\u001b[0m             \u001b[0morder\u001b[0m \u001b[1;33m=\u001b[0m \u001b[0mself\u001b[0m\u001b[1;33m.\u001b[0m\u001b[0m_swap\u001b[0m\u001b[1;33m(\u001b[0m\u001b[1;34m'cf'\u001b[0m\u001b[1;33m)\u001b[0m\u001b[1;33m[\u001b[0m\u001b[1;36m0\u001b[0m\u001b[1;33m]\u001b[0m\u001b[1;33m\u001b[0m\u001b[1;33m\u001b[0m\u001b[0m\n\u001b[1;32m-> 1024\u001b[1;33m         \u001b[0mout\u001b[0m \u001b[1;33m=\u001b[0m \u001b[0mself\u001b[0m\u001b[1;33m.\u001b[0m\u001b[0m_process_toarray_args\u001b[0m\u001b[1;33m(\u001b[0m\u001b[0morder\u001b[0m\u001b[1;33m,\u001b[0m \u001b[0mout\u001b[0m\u001b[1;33m)\u001b[0m\u001b[1;33m\u001b[0m\u001b[1;33m\u001b[0m\u001b[0m\n\u001b[0m\u001b[0;32m   1025\u001b[0m         \u001b[1;32mif\u001b[0m \u001b[1;32mnot\u001b[0m \u001b[1;33m(\u001b[0m\u001b[0mout\u001b[0m\u001b[1;33m.\u001b[0m\u001b[0mflags\u001b[0m\u001b[1;33m.\u001b[0m\u001b[0mc_contiguous\u001b[0m \u001b[1;32mor\u001b[0m \u001b[0mout\u001b[0m\u001b[1;33m.\u001b[0m\u001b[0mflags\u001b[0m\u001b[1;33m.\u001b[0m\u001b[0mf_contiguous\u001b[0m\u001b[1;33m)\u001b[0m\u001b[1;33m:\u001b[0m\u001b[1;33m\u001b[0m\u001b[1;33m\u001b[0m\u001b[0m\n\u001b[0;32m   1026\u001b[0m             \u001b[1;32mraise\u001b[0m \u001b[0mValueError\u001b[0m\u001b[1;33m(\u001b[0m\u001b[1;34m'Output array must be C or F contiguous'\u001b[0m\u001b[1;33m)\u001b[0m\u001b[1;33m\u001b[0m\u001b[1;33m\u001b[0m\u001b[0m\n",
      "\u001b[1;32mC:\\ProgramData\\Anaconda3\\lib\\site-packages\\scipy\\sparse\\base.py\u001b[0m in \u001b[0;36m_process_toarray_args\u001b[1;34m(self, order, out)\u001b[0m\n\u001b[0;32m   1184\u001b[0m             \u001b[1;32mreturn\u001b[0m \u001b[0mout\u001b[0m\u001b[1;33m\u001b[0m\u001b[1;33m\u001b[0m\u001b[0m\n\u001b[0;32m   1185\u001b[0m         \u001b[1;32melse\u001b[0m\u001b[1;33m:\u001b[0m\u001b[1;33m\u001b[0m\u001b[1;33m\u001b[0m\u001b[0m\n\u001b[1;32m-> 1186\u001b[1;33m             \u001b[1;32mreturn\u001b[0m \u001b[0mnp\u001b[0m\u001b[1;33m.\u001b[0m\u001b[0mzeros\u001b[0m\u001b[1;33m(\u001b[0m\u001b[0mself\u001b[0m\u001b[1;33m.\u001b[0m\u001b[0mshape\u001b[0m\u001b[1;33m,\u001b[0m \u001b[0mdtype\u001b[0m\u001b[1;33m=\u001b[0m\u001b[0mself\u001b[0m\u001b[1;33m.\u001b[0m\u001b[0mdtype\u001b[0m\u001b[1;33m,\u001b[0m \u001b[0morder\u001b[0m\u001b[1;33m=\u001b[0m\u001b[0morder\u001b[0m\u001b[1;33m)\u001b[0m\u001b[1;33m\u001b[0m\u001b[1;33m\u001b[0m\u001b[0m\n\u001b[0m\u001b[0;32m   1187\u001b[0m \u001b[1;33m\u001b[0m\u001b[0m\n\u001b[0;32m   1188\u001b[0m \u001b[1;33m\u001b[0m\u001b[0m\n",
      "\u001b[1;31mMemoryError\u001b[0m: "
     ]
    }
   ],
   "source": [
    "import numpy as np\n",
    "import pandas as pd\n",
    "import matplotlib.pyplot as plt\n",
    "dataset=pd.read_csv('train_NIR5Yl1.csv')\n",
    "x=dataset.iloc[:,[1,2,3,5]].values\n",
    "y=dataset.iloc[:,-1].values\n",
    "from sklearn.preprocessing import LabelEncoder, OneHotEncoder\n",
    "labelencoder=LabelEncoder()\n",
    "x[:,0]=labelencoder.fit_transform(x[:,0])\n",
    "onehotencoder=OneHotEncoder(categories='auto')\n",
    "x=onehotencoder.fit_transform(x).toarray()\n",
    "x=x[:,1:]\n",
    "from sklearn.model_selection import train_test_split\n",
    "x_train,x_test,y_train,y_test=train_test_split(x,y,test_size=0.2,random_state=0)\n",
    "from sklearn.linear_model import LinearRegression\n",
    "regressor=LinearRegression()\n",
    "regressor.fit(x_train,y_train)\n",
    "y_pred=regressor.predict(x_test)"
   ]
  },
  {
   "cell_type": "code",
   "execution_count": null,
   "metadata": {},
   "outputs": [],
   "source": []
  }
 ],
 "metadata": {
  "kernelspec": {
   "display_name": "Python 3",
   "language": "python",
   "name": "python3"
  },
  "language_info": {
   "codemirror_mode": {
    "name": "ipython",
    "version": 3
   },
   "file_extension": ".py",
   "mimetype": "text/x-python",
   "name": "python",
   "nbconvert_exporter": "python",
   "pygments_lexer": "ipython3",
   "version": "3.7.4"
  }
 },
 "nbformat": 4,
 "nbformat_minor": 2
}
