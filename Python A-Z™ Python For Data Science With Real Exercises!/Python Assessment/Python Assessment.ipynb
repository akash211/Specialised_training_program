{
 "cells": [
  {
   "cell_type": "markdown",
   "metadata": {},
   "source": [
    "# Problem 1"
   ]
  },
  {
   "cell_type": "code",
   "execution_count": 1,
   "metadata": {},
   "outputs": [],
   "source": [
    "Input_list2 = [\"RNO4\", \"LGB4\", \"ONT9\", \"SNA4\", \"PHX5\", \"LGB6\", \"PHX7\", \"RNO4\"]\n",
    "target = \"RN04\""
   ]
  },
  {
   "cell_type": "code",
   "execution_count": 2,
   "metadata": {},
   "outputs": [],
   "source": [
    "def find(target):\n",
    "    temp = []\n",
    "    for index in range(0,len(Input_list2)):\n",
    "        if Input_list2[index] == target:\n",
    "            temp.append(index)\n",
    "    \n",
    "    if len(temp)==0:\n",
    "        return \"No Match Found\"\n",
    "    else:\n",
    "        return temp     \n",
    "        "
   ]
  },
  {
   "cell_type": "code",
   "execution_count": 3,
   "metadata": {},
   "outputs": [
    {
     "data": {
      "text/plain": [
       "'No Match Found'"
      ]
     },
     "execution_count": 3,
     "metadata": {},
     "output_type": "execute_result"
    }
   ],
   "source": [
    "find('RN04') #Test Case 1"
   ]
  },
  {
   "cell_type": "code",
   "execution_count": 4,
   "metadata": {},
   "outputs": [
    {
     "data": {
      "text/plain": [
       "[0, 7]"
      ]
     },
     "execution_count": 4,
     "metadata": {},
     "output_type": "execute_result"
    }
   ],
   "source": [
    "find('RNO4') #Test Case 2"
   ]
  },
  {
   "cell_type": "code",
   "execution_count": 5,
   "metadata": {},
   "outputs": [
    {
     "data": {
      "text/plain": [
       "[2]"
      ]
     },
     "execution_count": 5,
     "metadata": {},
     "output_type": "execute_result"
    }
   ],
   "source": [
    "find('ONT9') #Test Case 3"
   ]
  },
  {
   "cell_type": "markdown",
   "metadata": {},
   "source": [
    "# Problem 2"
   ]
  },
  {
   "cell_type": "code",
   "execution_count": 7,
   "metadata": {},
   "outputs": [
    {
     "name": "stdout",
     "output_type": "stream",
     "text": [
      "Given list is: [1, 1, 2, 4, 5, 4, 4, 4, 5]\n",
      "Unique, sorted list created from unique_list is: [1, 2, 4, 5]\n",
      "\n",
      "**********************************************************************\n",
      "The value that occurs odd number of times is \u001b[3m\u001b[4m2\u001b[0m and it occurs \u001b[3m\u001b[4m1\u001b[4m times\n",
      "**********************************************************************\n"
     ]
    }
   ],
   "source": [
    "Input_list = [1, 1, 2, 4, 5, 4, 4, 4, 5] \n",
    "unique_list = list(set(Input_list))\n",
    "unique_list.sort()\n",
    "print('Given list is:', Input_list)\n",
    "print('Unique, sorted list created from unique_list is:', unique_list, end = \"\\n\\n\")\n",
    "\n",
    "for unique_value in unique_list:\n",
    "    counter = 0\n",
    "    for input_value in Input_list:\n",
    "        if unique_value == input_value:\n",
    "            counter += 1\n",
    "    if (counter%2) != 0:\n",
    "        print('*' * 70)\n",
    "        print('The value that occurs odd number of times is ' + '\\033[3m'+ '\\033[4m'\\\n",
    "              + str(unique_value) + '\\033[0m' +' and it occurs ' + '\\033[3m'+ '\\033[4m'\\\n",
    "              + str(counter) + '\\033[4m' +' times')\n",
    "        print('*' * 70)\n"
   ]
  },
  {
   "cell_type": "code",
   "execution_count": null,
   "metadata": {},
   "outputs": [],
   "source": []
  }
 ],
 "metadata": {
  "kernelspec": {
   "display_name": "Python 3",
   "language": "python",
   "name": "python3"
  },
  "language_info": {
   "codemirror_mode": {
    "name": "ipython",
    "version": 3
   },
   "file_extension": ".py",
   "mimetype": "text/x-python",
   "name": "python",
   "nbconvert_exporter": "python",
   "pygments_lexer": "ipython3",
   "version": "3.7.4"
  }
 },
 "nbformat": 4,
 "nbformat_minor": 2
}
